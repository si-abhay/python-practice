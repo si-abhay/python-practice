{
  "cells": [
    {
      "cell_type": "markdown",
      "metadata": {},
      "source": [
        "LEETCODE QUESTIONS"
      ]
    },
    {
      "cell_type": "markdown",
      "metadata": {},
      "source": [
        "Binary String With Substrings Representing 1 To N"
      ]
    },
    {
      "cell_type": "code",
      "execution_count": null,
      "metadata": {},
      "outputs": [],
      "source": [
        "'''\n",
        "class Solution(object):     #24/28 test case passed\n",
        "    def queryString(self, s, n):\n",
        "        q=[]\n",
        "        q.append(\"1\")\n",
        "        for i in range(1,n+1):\n",
        "            temp=q.pop(0)\n",
        "            if (temp in s):\n",
        "                q.append(temp+\"0\")\n",
        "                q.append(temp+\"1\")\n",
        "            else:\n",
        "                return False  \n",
        "        return True\n",
        "'''\n",
        "\n",
        "class Solution(object): \n",
        "    def queryString(self, s, n):\n",
        "        for i in range(1, n+1):\n",
        "            binary_rep = bin(i)[2:]\n",
        "            if binary_rep not in s:\n",
        "                return False\n",
        "        return True\n"
      ]
    },
    {
      "cell_type": "markdown",
      "metadata": {},
      "source": [
        "2091. Removing Minimum and Maximum From Array\n"
      ]
    },
    {
      "cell_type": "code",
      "execution_count": 2,
      "metadata": {},
      "outputs": [],
      "source": [
        "class Solution:\n",
        "    def minimumDeletions(self, nums):\n",
        "        #we have three options to remove the elements \n",
        "\t\t#one from both side\n",
        "\t\t#two from start \n",
        "\t\t#three from end\n",
        "        n=len(nums)\n",
        "        mins=float(inf)\n",
        "        maxs=-float(inf)\n",
        "        minsi=0\n",
        "        maxsi=0\n",
        "        for i in range(n):\n",
        "            if nums[i]< mins:\n",
        "                mins=nums[i]\n",
        "                minsi=i\n",
        "            if nums[i]>maxs:\n",
        "                maxs=nums[i]\n",
        "                maxsi=i\n",
        "        #we actually dont care which index is of min and which is of max\n",
        "\t\t#what we care is which index is largers and which is smaller\n",
        "        left,right=min(minsi,maxsi),max(minsi,maxsi)\n",
        "        #min of case1,2,3\n",
        "        return min(left + 1 + (n - right),right + 1, n - left )"
      ]
    },
    {
      "cell_type": "code",
      "execution_count": null,
      "metadata": {},
      "outputs": [],
      "source": [
        "# Word-break problem\n",
        "\n",
        "class Solution(object):     # 36/46 test case passsed\n",
        "    def wordBreak(self, s, wordDict):\n",
        "        for x in wordDict:\n",
        "            ans=\"\"\n",
        "            m=s.split(x)\n",
        "            for y in m:\n",
        "                ans+=y\n",
        "            s=ans\n",
        "        if len(s)==0:\n",
        "            return True\n",
        "        else:\n",
        "            return False"
      ]
    }
  ],
  "metadata": {
    "kernelspec": {
      "display_name": "base",
      "language": "python",
      "name": "python3"
    },
    "language_info": {
      "codemirror_mode": {
        "name": "ipython",
        "version": 3
      },
      "file_extension": ".py",
      "mimetype": "text/x-python",
      "name": "python",
      "nbconvert_exporter": "python",
      "pygments_lexer": "ipython3",
      "version": "3.9.12"
    }
  },
  "nbformat": 4,
  "nbformat_minor": 4
}
