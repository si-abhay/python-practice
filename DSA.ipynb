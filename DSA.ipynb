{
  "cells": [
    {
      "cell_type": "markdown",
      "metadata": {},
      "source": [
        "Taking INPUTS"
      ]
    },
    {
      "cell_type": "code",
      "execution_count": null,
      "metadata": {},
      "outputs": [],
      "source": [
        "n=int(input())\n",
        "l=[]\n",
        "for i in range(n):\n",
        "    l.append(int(input()))\n",
        "    \n",
        "#input of form\n",
        "\n",
        "#n\n",
        "#1\n",
        "#2\n",
        "#3\n",
        "#4"
      ]
    },
    {
      "cell_type": "code",
      "execution_count": null,
      "metadata": {},
      "outputs": [],
      "source": [
        "a=input().split()\n",
        "n=int(a[0])\n",
        "l=[int(i) for i in a[1:]]\n",
        "\n",
        "#======= OR ========\n",
        "\n",
        "a=input().split()\n",
        "n=int(a[0])\n",
        "l=[]\n",
        "for i in a[1:]:\n",
        "    l.append(int(i))\n",
        "\n",
        "#input of form\n",
        "\n",
        "#n 1 2 3 4"
      ]
    },
    {
      "cell_type": "code",
      "execution_count": null,
      "metadata": {},
      "outputs": [],
      "source": [
        "n=int(input())\n",
        "l=[int(i) for i in input().split()]\n",
        "#input of form\n",
        "\n",
        "#n\n",
        "#1 2 3 4"
      ]
    },
    {
      "cell_type": "markdown",
      "metadata": {},
      "source": [
        "Try and Except Python"
      ]
    },
    {
      "cell_type": "code",
      "execution_count": 1,
      "metadata": {
        "trusted": true
      },
      "outputs": [
        {
          "name": "stdout",
          "output_type": "stream",
          "text": [
            "try block\n",
            "else block\n"
          ]
        }
      ],
      "source": [
        "def fun():\n",
        "    try:\n",
        "        print(\"try block\")\n",
        "    except :\n",
        "        print (\"except block\")\n",
        "    else:\n",
        "        print (\"else block\")\n",
        "  \n",
        "fun()"
      ]
    },
    {
      "cell_type": "code",
      "execution_count": 2,
      "metadata": {
        "trusted": true
      },
      "outputs": [
        {
          "name": "stdout",
          "output_type": "stream",
          "text": [
            "except block\n"
          ]
        }
      ],
      "source": [
        "def fun(a):\n",
        "    try :\n",
        "        print(a/0)\n",
        "    except :\n",
        "        print (\"except block\")\n",
        "    else:\n",
        "        print (\"else block\")\n",
        "  \n",
        "fun(1)"
      ]
    },
    {
      "cell_type": "code",
      "execution_count": 3,
      "metadata": {
        "trusted": true
      },
      "outputs": [
        {
          "name": "stdout",
          "output_type": "stream",
          "text": [
            "except block\n",
            "This is always run whether try block runs or except block\n"
          ]
        }
      ],
      "source": [
        "def fun(a):\n",
        "    try :\n",
        "        print(a/0)\n",
        "    except :\n",
        "        print (\"except block\")\n",
        "    else:\n",
        "        print (\"else block\")\n",
        "    finally:\n",
        "        print(\"This is always run whether try block runs or except block\")\n",
        "  \n",
        "fun(1)"
      ]
    },
    {
      "cell_type": "markdown",
      "metadata": {},
      "source": [
        "Args and Kwargs : Watch Coding Ninjas DSA playlist or GEEKFORGEEKS"
      ]
    },
    {
      "cell_type": "code",
      "execution_count": 5,
      "metadata": {},
      "outputs": [],
      "source": [
        "pass"
      ]
    },
    {
      "cell_type": "markdown",
      "metadata": {},
      "source": [
        "Unpacking of element into multiple arguments"
      ]
    },
    {
      "cell_type": "code",
      "execution_count": 4,
      "metadata": {},
      "outputs": [
        {
          "name": "stdout",
          "output_type": "stream",
          "text": [
            "1\n",
            "2\n",
            "3\n",
            "4\n"
          ]
        }
      ],
      "source": [
        "def fun(*params):\n",
        "    for i in params:\n",
        "        print(i)\n",
        "\n",
        "l=[1,2,3,4]\n",
        "fun(*l)"
      ]
    },
    {
      "cell_type": "markdown",
      "metadata": {},
      "source": [
        "HANDY IF ELSE USE"
      ]
    },
    {
      "cell_type": "code",
      "execution_count": 5,
      "metadata": {},
      "outputs": [
        {
          "name": "stdout",
          "output_type": "stream",
          "text": [
            "OUTPUT IS :  3\n"
          ]
        }
      ],
      "source": [
        "a=3\n",
        "b=2\n",
        "max=a if a>b else b\n",
        "print(\"OUTPUT IS : \",max)"
      ]
    },
    {
      "cell_type": "markdown",
      "metadata": {},
      "source": [
        "Pair sum CODESTUDIO "
      ]
    },
    {
      "cell_type": "code",
      "execution_count": 6,
      "metadata": {},
      "outputs": [],
      "source": [
        "from collections import *\n",
        "def pairSum(arr, s):\n",
        "    n=len(arr)\n",
        "\n",
        "    map=OrderedDict()\n",
        "\n",
        "    ans=[]\n",
        "\n",
        "    for num in arr:\n",
        "        map[num]=map.get(num,0)+1    # map[num] is freq of num  eg. if map is [(3,2),(1,1)] then map[3] gives 2\n",
        "    \n",
        "    KeyArr=sorted(map.keys())  #unique array element list\n",
        "\n",
        "    for key in KeyArr:\n",
        "        if key+key == s:\n",
        "            freq=map[key]\n",
        "\n",
        "            for j in range(freq*(freq-1)//2):  # freq=??????? combinations of 2 things out of freq things\n",
        "                ans.append([key,key])\n",
        "    \n",
        "    low=0\n",
        "    high=len(KeyArr)-1  # NOT high=n-1\n",
        "\n",
        "    while(low<high):\n",
        "        currsum=KeyArr[low]+KeyArr[high]\n",
        "        if currsum==s:\n",
        "            freq= map[KeyArr[low]]*map[KeyArr[high]]\n",
        "            for j in range(freq):\n",
        "                ans.append([KeyArr[low],KeyArr[high]])\n",
        "            low+=1\n",
        "            high-=1\n",
        "        elif currsum>s:\n",
        "            high-=1\n",
        "        else:\n",
        "            low+=1\n",
        "    \n",
        "    # Sorted result in end\n",
        "    for i in range(len(ans)):\n",
        "        a=ans[i][0]\n",
        "        b=ans[i][1]\n",
        "        ans[i][0]=min(a,b)\n",
        "        ans[i][1]=max(a,b)\n",
        "    \n",
        "    \n",
        "    ans=sorted(ans, key=lambda x:x[0])\n",
        "    return ans"
      ]
    },
    {
      "cell_type": "markdown",
      "metadata": {},
      "source": [
        "Resizing Array"
      ]
    },
    {
      "cell_type": "code",
      "execution_count": 8,
      "metadata": {},
      "outputs": [
        {
          "name": "stdout",
          "output_type": "stream",
          "text": [
            "6\n",
            "[3, 4, 2]\n",
            "3\n"
          ]
        }
      ],
      "source": [
        "l=[1,3,4,2,6,7]\n",
        "print(len(l))\n",
        "l=l[1:4]  # 4 is exclusive not inclusive i.e end index is exclusive\n",
        "print(l)\n",
        "print(len(l))"
      ]
    },
    {
      "cell_type": "markdown",
      "metadata": {},
      "source": [
        "Reverse words in a string : The string can have multiple spaces inbetween two words"
      ]
    },
    {
      "cell_type": "code",
      "execution_count": 9,
      "metadata": {},
      "outputs": [
        {
          "name": "stdout",
          "output_type": "stream",
          "text": [
            "Hi There Hello \n"
          ]
        }
      ],
      "source": [
        "str=\"   Hello      There   Hi  \"\n",
        "ans=\"\"\n",
        "\n",
        "l=str.split()\n",
        "l.reverse()\n",
        "for i in l:\n",
        "    ans+=i\n",
        "    ans+=\" \"\n",
        "\n",
        "print(ans)"
      ]
    },
    {
      "cell_type": "markdown",
      "metadata": {},
      "source": [
        "2D Array Traversal"
      ]
    },
    {
      "cell_type": "code",
      "execution_count": 12,
      "metadata": {},
      "outputs": [
        {
          "name": "stdout",
          "output_type": "stream",
          "text": [
            "[1, 2, 3]\n",
            "[7, 8, 9]\n"
          ]
        }
      ],
      "source": [
        "arr=[[1,2,3],[4,5,6],[7,8,9]]\n",
        "\n",
        "print(arr[0])\n",
        "print(arr[2])"
      ]
    },
    {
      "cell_type": "markdown",
      "metadata": {},
      "source": [
        "insert in 2D Array"
      ]
    },
    {
      "cell_type": "code",
      "execution_count": 13,
      "metadata": {},
      "outputs": [
        {
          "name": "stdout",
          "output_type": "stream",
          "text": [
            "[[1, 2, 3], [4, 5, 6], [11, 12, 13], [7, 8, 9]]\n"
          ]
        }
      ],
      "source": [
        "arr=[[1,2,3],[4,5,6],[7,8,9]]\n",
        "arr.insert(2,[11,12,13])\n",
        "print(arr)"
      ]
    },
    {
      "cell_type": "markdown",
      "metadata": {},
      "source": [
        "reverse a list after given position"
      ]
    },
    {
      "cell_type": "code",
      "execution_count": 15,
      "metadata": {},
      "outputs": [
        {
          "name": "stdout",
          "output_type": "stream",
          "text": [
            "[1, 2, 3, 4, 9, 8, 7, 6, 5]\n"
          ]
        }
      ],
      "source": [
        "l=[1,2,3,4,5,6,7,8,9]\n",
        "n=3\n",
        "l[(n+1):]=l[-1:-(len(l)-n):-1]  # l[:-(len(l)-n):-1]\n",
        "print(l)"
      ]
    },
    {
      "cell_type": "markdown",
      "metadata": {},
      "source": [
        "Intersection of two array"
      ]
    },
    {
      "cell_type": "code",
      "execution_count": 16,
      "metadata": {},
      "outputs": [
        {
          "name": "stdout",
          "output_type": "stream",
          "text": [
            "[2, 2, 5, 8]\n"
          ]
        }
      ],
      "source": [
        "from collections import *\n",
        "map=OrderedDict()\n",
        "\n",
        "l1=[1,3,5,2,5,8,2]\n",
        "l2=[5,2,8,2,9,6]\n",
        "ans=[]\n",
        "\n",
        "l1=sorted(l1)\n",
        "l2=sorted(l2)\n",
        "\n",
        "for i in l1:\n",
        "    map[i]=map.get(i,0)+1\n",
        "\n",
        "for i in l2:\n",
        "    if i in map and map[i]>0:\n",
        "        ans.append(i)\n",
        "        map[i]-=1\n",
        "\n",
        "print(ans)"
      ]
    },
    {
      "cell_type": "markdown",
      "metadata": {},
      "source": [
        "Get only distinct elements in map"
      ]
    },
    {
      "cell_type": "code",
      "execution_count": 17,
      "metadata": {},
      "outputs": [
        {
          "name": "stdout",
          "output_type": "stream",
          "text": [
            "OrderedDict([(1, 1), (2, 1), (3, 1), (5, 1), (8, 1)])\n",
            "[2, 5, 8]\n"
          ]
        }
      ],
      "source": [
        "from collections import *\n",
        "map=OrderedDict()\n",
        "\n",
        "l1=[1,3,5,2,5,8,2]\n",
        "l2=[5,2,8,2,9,6]\n",
        "ans=[]\n",
        "\n",
        "l1=sorted(l1)\n",
        "l2=sorted(l2)\n",
        "\n",
        "for i in l1:\n",
        "    map[i]=map.get(i,1)\n",
        "\n",
        "'''for i in l2:\n",
        "    if i in map and map[i]>0:\n",
        "        ans.append(i)\n",
        "        map[i]-=1'''\n",
        "\n",
        "print(map)\n",
        "#print(ans)\n",
        "\n",
        "#======== Only distinct elements intersection ========\n",
        "\n",
        "from collections import *\n",
        "map=OrderedDict()\n",
        "\n",
        "l1=[1,3,5,2,5,8,2]\n",
        "l2=[5,2,8,2,9,6]\n",
        "ans=[]\n",
        "\n",
        "l1=sorted(l1)\n",
        "l2=sorted(l2)\n",
        "\n",
        "for i in l1:\n",
        "    map[i]=map.get(i,1)\n",
        "\n",
        "for i in l2:\n",
        "    if i in map and map[i]!=0:       # here map[i]!=0\n",
        "        ans.append(i)\n",
        "        map[i]-=1\n",
        "\n",
        "print(ans)"
      ]
    },
    {
      "cell_type": "markdown",
      "metadata": {},
      "source": [
        "Copying into a new Array"
      ]
    },
    {
      "cell_type": "code",
      "execution_count": 18,
      "metadata": {},
      "outputs": [
        {
          "name": "stdout",
          "output_type": "stream",
          "text": [
            "array('I', [1, 2, 4, 5, 6, 11])\n",
            "array('I', [11, 6, 5, 4, 2, 1])\n",
            "array('I', [11, 6, 5, 4, 2, 1])\n"
          ]
        }
      ],
      "source": [
        "from array import array\n",
        "l=array('I',[1,2,3,4,5,6])\n",
        "l.append(11)\n",
        "l.remove(3)\n",
        "print(l)\n",
        "\n",
        "l.reverse()\n",
        "print(l)\n",
        "\n",
        "# copying into a new array\n",
        "new=array(l.typecode,[ele for ele in l])\n",
        "print(new)"
      ]
    },
    {
      "cell_type": "markdown",
      "metadata": {},
      "source": [
        "Array Inparrut"
      ]
    },
    {
      "cell_type": "code",
      "execution_count": null,
      "metadata": {},
      "outputs": [],
      "source": [
        "from array import array\n",
        "l=array('I',[])\n",
        "\n",
        "n=int(input())\n",
        "\n",
        "for i in range(n):\n",
        "    x=int(input(f'Enter the {i}th element'))\n",
        "    l.append(x)\n",
        "\n",
        "print(l)"
      ]
    },
    {
      "cell_type": "markdown",
      "metadata": {},
      "source": [
        "ARRAY COPY: SHALLOW AND DEEP"
      ]
    },
    {
      "cell_type": "code",
      "execution_count": 19,
      "metadata": {},
      "outputs": [
        {
          "name": "stdout",
          "output_type": "stream",
          "text": [
            "4460202288\n",
            "4460202672\n",
            "[ 1 22  5]\n"
          ]
        }
      ],
      "source": [
        "from numpy import *\n",
        "\n",
        "arr1=array([1,2,5])\n",
        "\n",
        "# Shallow Copy\n",
        "\n",
        "arr2=arr1.view()\n",
        "\n",
        "print(id(arr1))\n",
        "print(id(arr2))\n",
        "\n",
        "arr1[1]=22\n",
        "print(arr2)"
      ]
    },
    {
      "cell_type": "code",
      "execution_count": 20,
      "metadata": {},
      "outputs": [
        {
          "name": "stdout",
          "output_type": "stream",
          "text": [
            "4450210320\n",
            "4460203248\n",
            "[ 1 22  5]\n",
            "[1 2 5]\n"
          ]
        }
      ],
      "source": [
        "from numpy import *\n",
        "\n",
        "arr1=array([1,2,5])\n",
        "\n",
        "# Deep Copy\n",
        "\n",
        "arr2=arr1.copy()\n",
        "\n",
        "print(id(arr1))\n",
        "print(id(arr2))\n",
        "\n",
        "arr1[1]=22\n",
        "print(arr1)\n",
        "print(arr2)"
      ]
    },
    {
      "cell_type": "markdown",
      "metadata": {},
      "source": [
        "2D ARRAY Rows and Columns"
      ]
    },
    {
      "cell_type": "code",
      "execution_count": 21,
      "metadata": {},
      "outputs": [
        {
          "name": "stdout",
          "output_type": "stream",
          "text": [
            "3\n",
            "3\n"
          ]
        }
      ],
      "source": [
        "#2D MATRIX no of rows and columns\n",
        "\n",
        "l=[[1,2,3],[4,5,6],[7,8,9]]\n",
        "\n",
        "rows=len(l)\n",
        "\n",
        "col=len(l[0])\n",
        "\n",
        "print(rows)\n",
        "print(col)"
      ]
    },
    {
      "cell_type": "markdown",
      "metadata": {},
      "source": [
        "SORTING IN 2D ARRAYS"
      ]
    },
    {
      "cell_type": "code",
      "execution_count": 22,
      "metadata": {},
      "outputs": [
        {
          "name": "stdout",
          "output_type": "stream",
          "text": [
            "[[0.5, 3], [1, 2], [2, 1]]\n"
          ]
        }
      ],
      "source": [
        "arr=[[2,1],[0.5,3],[1,2]]\n",
        "arr.sort()  # Sorts on the basis of first element in 2D arrays\n",
        "\n",
        "print(arr)"
      ]
    },
    {
      "cell_type": "markdown",
      "metadata": {},
      "source": [
        "2D Array Input"
      ]
    },
    {
      "cell_type": "code",
      "execution_count": null,
      "metadata": {},
      "outputs": [],
      "source": [
        "# Taking input for 2D array\n",
        "# 3 2\n",
        "# 1 2\n",
        "# 3 4\n",
        "# 5 6\n",
        "\n",
        "a=input().split()\n",
        "row=int(a[0])\n",
        "col=int(a[1])\n",
        "arr=[]\n",
        "\n",
        "for i in range(row):\n",
        "    r=[int(j) for j in input().split()]\n",
        "    arr.append(r)\n",
        "\n",
        "print(arr)"
      ]
    },
    {
      "cell_type": "markdown",
      "metadata": {},
      "source": [
        "Ninja and Crazy sum CODESTUDIO"
      ]
    },
    {
      "cell_type": "code",
      "execution_count": 25,
      "metadata": {},
      "outputs": [
        {
          "name": "stdout",
          "output_type": "stream",
          "text": [
            "[[5, 3, 0], [11, 6, 0], [17, 9, 0]]\n",
            "[[5, 3, 0], [11, 6, 0], [17, 9, 0]]\n"
          ]
        }
      ],
      "source": [
        "l=[[1,2,3],[4,5,6],[7,8,9]]\n",
        "\n",
        "ans=[[] for i in range(len(l))]  #2D Array empty initialization\n",
        "\n",
        "for i in range(len(l)):\n",
        "    for j in range(len(l[0])):\n",
        "        sum=0                  \n",
        "        for x in l[i][j+1:]:     # j+1 is out of bound for last element still it works and thus does nothing to sum and 0 is appended\n",
        "            sum+=x\n",
        "        ans[i].append(sum)\n",
        "\n",
        "print(ans)\n",
        "\n",
        "#=================OPTIMISED n*n approach=========>\n",
        "\n",
        "l=[[1,2,3],[4,5,6],[7,8,9]]\n",
        "\n",
        "n = len(l)\n",
        "m = len(l[0])\n",
        "\n",
        "for i in range(n):\n",
        "    sum = 0\n",
        "    for j in range(m-1 , -1, -1):\n",
        "        temp = l[i][j]    # Storing array value in a temp variable\n",
        "        l[i][j] = sum\n",
        "        sum += temp\n",
        "\n",
        "print(l)"
      ]
    },
    {
      "cell_type": "markdown",
      "metadata": {},
      "source": [
        "Bubble Sort"
      ]
    },
    {
      "cell_type": "code",
      "execution_count": 28,
      "metadata": {},
      "outputs": [
        {
          "name": "stdout",
          "output_type": "stream",
          "text": [
            "[5, 9, 4, 2, 10]\n",
            "[5, 4, 2, 9, 10]\n",
            "[4, 2, 5, 9, 10]\n",
            "[2, 4, 5, 9, 10]\n"
          ]
        }
      ],
      "source": [
        "# Bubble sort\n",
        "\n",
        "# after each iteration one largest element will go to it's final position\n",
        "# for eg in l=[10,5,9,4,2]\n",
        "# after first iteration 10 will be at it's original pos output of first iteration : [5,9,4,2,10]\n",
        "# second iteration [5,4,2,9,10]\n",
        "# third iteration [4,2,5,9,10]\n",
        "\n",
        "l=[10,5,9,4,2]\n",
        "n=len(l)\n",
        "for i in range(n-1):\n",
        "    for j in range(n-1):\n",
        "        if l[j]>l[j+1]:\n",
        "            temp=l[j]\n",
        "            l[j]=l[j+1]\n",
        "            l[j+1]=temp\n",
        "    print(l)"
      ]
    },
    {
      "cell_type": "markdown",
      "metadata": {},
      "source": [
        "Selection Sort"
      ]
    },
    {
      "cell_type": "code",
      "execution_count": 38,
      "metadata": {},
      "outputs": [
        {
          "name": "stdout",
          "output_type": "stream",
          "text": [
            "[2, 5, 9, 4, 10]\n",
            "[2, 4, 9, 5, 10]\n",
            "[2, 4, 5, 9, 10]\n",
            "[2, 4, 5, 9, 10]\n"
          ]
        }
      ],
      "source": [
        "# Selection sort\n",
        "\n",
        "# find smallest element in array and fix it to starting position \n",
        "# then in second iteration leave first index and find min element in subsequent array and fix it to second index\n",
        "\n",
        "# NOT NECESSARY YOU DO FROM REVERE ORDER CAN BE DONE FROM START TOO\n",
        "# from reverse own method  (lil bit complex)\n",
        "\n",
        "'''l=[10,5,9,4,2]\n",
        "n=len(l)\n",
        "for i in range(n):\n",
        "    minm=l[-1]\n",
        "    ind=-1\n",
        "    for j in range(-1,-n+i-1,-1):\n",
        "        if(l[j]<minm):\n",
        "            ind=j\n",
        "            minm=l[j]\n",
        "\n",
        "    l[ind]=l[i]\n",
        "    l[i]=minm\n",
        "    print(l)\n",
        "'''\n",
        "\n",
        "l=[10,5,9,4,2]\n",
        "n=len(l)\n",
        "for i in range(n-1):   # n-2 is wrong no less that this iteration\n",
        "    min_idx=i\n",
        "    for j in range(i+1,n):\n",
        "        if(l[j]<l[min_idx]):\n",
        "            min_idx=j\n",
        "\n",
        "    l[i],l[min_idx]=l[min_idx],l[i]\n",
        "            \n",
        "    print(l)\n",
        "\n"
      ]
    },
    {
      "cell_type": "markdown",
      "metadata": {},
      "source": [
        "Insertion Sort"
      ]
    },
    {
      "cell_type": "code",
      "execution_count": 41,
      "metadata": {},
      "outputs": [
        {
          "name": "stdout",
          "output_type": "stream",
          "text": [
            "[5, 10, 9, 4, 6]\n",
            "[5, 9, 10, 4, 6]\n",
            "[4, 5, 9, 10, 6]\n",
            "[4, 5, 6, 9, 10]\n"
          ]
        }
      ],
      "source": [
        "# Algorithm\n",
        "'''To sort an array of size N in ascending order iterate over the array and compare the current element (key) to its predecessor\n",
        "if the key element is smaller than its predecessor, compare it to the elements before. \n",
        "Move the greater elements one position up to make space for the swapped element.'''\n",
        "\n",
        "l=[10,5,9,4,6]\n",
        "n=len(l)\n",
        "for i in range(n-1):\n",
        "    k=i+1\n",
        "    while(l[k]<l[k-1] and k>=1):\n",
        "        l[k],l[k-1]=l[k-1],l[k]\n",
        "        k-=1\n",
        "    print(l)"
      ]
    },
    {
      "cell_type": "markdown",
      "metadata": {},
      "source": [
        "Find Dup codestudio"
      ]
    },
    {
      "cell_type": "code",
      "execution_count": 43,
      "metadata": {},
      "outputs": [
        {
          "data": {
            "text/plain": [
              "2"
            ]
          },
          "execution_count": 43,
          "metadata": {},
          "output_type": "execute_result"
        }
      ],
      "source": [
        "l=[1,3,2,2,4]\n",
        "map=[False for i in l]\n",
        "\n",
        "def finddup(l):\n",
        "    for i in l:\n",
        "        if map[i-1]:\n",
        "            return i\n",
        "        else:\n",
        "            map[i-1]=True\n",
        "\n",
        "finddup(l)"
      ]
    }
  ],
  "metadata": {
    "kernelspec": {
      "display_name": "base",
      "language": "python",
      "name": "python3"
    },
    "language_info": {
      "codemirror_mode": {
        "name": "ipython",
        "version": 3
      },
      "file_extension": ".py",
      "mimetype": "text/x-python",
      "name": "python",
      "nbconvert_exporter": "python",
      "pygments_lexer": "ipython3",
      "version": "3.9.12"
    }
  },
  "nbformat": 4,
  "nbformat_minor": 4
}
