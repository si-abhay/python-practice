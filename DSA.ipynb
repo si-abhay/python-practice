{
  "cells": [
    {
      "cell_type": "markdown",
      "metadata": {},
      "source": [
        "Taking INPUTS"
      ]
    },
    {
      "cell_type": "code",
      "execution_count": null,
      "metadata": {},
      "outputs": [],
      "source": [
        "n=int(input())\n",
        "l=[]\n",
        "for i in range(n):\n",
        "    l.append(int(input()))\n",
        "    \n",
        "#input of form\n",
        "\n",
        "#n\n",
        "#1\n",
        "#2\n",
        "#3\n",
        "#4"
      ]
    },
    {
      "cell_type": "code",
      "execution_count": null,
      "metadata": {},
      "outputs": [],
      "source": [
        "a=input().split()\n",
        "n=int(a[0])\n",
        "l=[int(i) for i in a[1:]]\n",
        "\n",
        "#======= OR ========\n",
        "\n",
        "a=input().split()\n",
        "n=int(a[0])\n",
        "l=[]\n",
        "for i in a[1:]:\n",
        "    l.append(int(i))\n",
        "\n",
        "#input of form\n",
        "\n",
        "#n 1 2 3 4"
      ]
    },
    {
      "cell_type": "code",
      "execution_count": null,
      "metadata": {},
      "outputs": [],
      "source": [
        "n=int(input())\n",
        "l=[int(i) for i in input().split()]\n",
        "#input of form\n",
        "\n",
        "#n\n",
        "#1 2 3 4"
      ]
    },
    {
      "cell_type": "markdown",
      "metadata": {},
      "source": [
        "Try and Except Python"
      ]
    },
    {
      "cell_type": "code",
      "execution_count": 1,
      "metadata": {
        "trusted": true
      },
      "outputs": [
        {
          "name": "stdout",
          "output_type": "stream",
          "text": [
            "try block\n",
            "else block\n"
          ]
        }
      ],
      "source": [
        "def fun():\n",
        "    try:\n",
        "        print(\"try block\")\n",
        "    except :\n",
        "        print (\"except block\")\n",
        "    else:\n",
        "        print (\"else block\")\n",
        "  \n",
        "fun()"
      ]
    },
    {
      "cell_type": "code",
      "execution_count": 2,
      "metadata": {
        "trusted": true
      },
      "outputs": [
        {
          "name": "stdout",
          "output_type": "stream",
          "text": [
            "except block\n"
          ]
        }
      ],
      "source": [
        "def fun(a):\n",
        "    try :\n",
        "        print(a/0)\n",
        "    except :\n",
        "        print (\"except block\")\n",
        "    else:\n",
        "        print (\"else block\")\n",
        "  \n",
        "fun(1)"
      ]
    },
    {
      "cell_type": "code",
      "execution_count": 3,
      "metadata": {
        "trusted": true
      },
      "outputs": [
        {
          "name": "stdout",
          "output_type": "stream",
          "text": [
            "except block\n",
            "This is always run whether try block runs or except block\n"
          ]
        }
      ],
      "source": [
        "def fun(a):\n",
        "    try :\n",
        "        print(a/0)\n",
        "    except :\n",
        "        print (\"except block\")\n",
        "    else:\n",
        "        print (\"else block\")\n",
        "    finally:\n",
        "        print(\"This is always run whether try block runs or except block\")\n",
        "  \n",
        "fun(1)"
      ]
    },
    {
      "cell_type": "markdown",
      "metadata": {},
      "source": [
        "Args and Kwargs : Watch Coding Ninjas DSA playlist or GEEKFORGEEKS"
      ]
    },
    {
      "cell_type": "code",
      "execution_count": 5,
      "metadata": {},
      "outputs": [],
      "source": [
        "pass"
      ]
    },
    {
      "cell_type": "markdown",
      "metadata": {},
      "source": [
        "Unpacking of element into multiple arguments"
      ]
    },
    {
      "cell_type": "code",
      "execution_count": 4,
      "metadata": {},
      "outputs": [
        {
          "name": "stdout",
          "output_type": "stream",
          "text": [
            "1\n",
            "2\n",
            "3\n",
            "4\n"
          ]
        }
      ],
      "source": [
        "def fun(*params):\n",
        "    for i in params:\n",
        "        print(i)\n",
        "\n",
        "l=[1,2,3,4]\n",
        "fun(*l)"
      ]
    },
    {
      "cell_type": "markdown",
      "metadata": {},
      "source": [
        "HANDY IF ELSE USE"
      ]
    },
    {
      "cell_type": "code",
      "execution_count": 5,
      "metadata": {},
      "outputs": [
        {
          "name": "stdout",
          "output_type": "stream",
          "text": [
            "OUTPUT IS :  3\n"
          ]
        }
      ],
      "source": [
        "a=3\n",
        "b=2\n",
        "max=a if a>b else b\n",
        "print(\"OUTPUT IS : \",max)"
      ]
    },
    {
      "cell_type": "markdown",
      "metadata": {},
      "source": [
        "Pair sum CODESTUDIO "
      ]
    },
    {
      "cell_type": "code",
      "execution_count": 6,
      "metadata": {},
      "outputs": [],
      "source": [
        "from collections import *\n",
        "def pairSum(arr, s):\n",
        "    n=len(arr)\n",
        "\n",
        "    map=OrderedDict()\n",
        "\n",
        "    ans=[]\n",
        "\n",
        "    for num in arr:\n",
        "        map[num]=map.get(num,0)+1    # map[num] is freq of num  eg. if map is [(3,2),(1,1)] then map[3] gives 2\n",
        "    \n",
        "    KeyArr=sorted(map.keys())  #unique array element list\n",
        "\n",
        "    for key in KeyArr:\n",
        "        if key+key == s:\n",
        "            freq=map[key]\n",
        "\n",
        "            for j in range(freq*(freq-1)//2):  # freq=??????? combinations of 2 things out of freq things\n",
        "                ans.append([key,key])\n",
        "    \n",
        "    low=0\n",
        "    high=len(KeyArr)-1  # NOT high=n-1\n",
        "\n",
        "    while(low<high):\n",
        "        currsum=KeyArr[low]+KeyArr[high]\n",
        "        if currsum==s:\n",
        "            freq= map[KeyArr[low]]*map[KeyArr[high]]\n",
        "            for j in range(freq):\n",
        "                ans.append([KeyArr[low],KeyArr[high]])\n",
        "            low+=1\n",
        "            high-=1\n",
        "        elif currsum>s:\n",
        "            high-=1\n",
        "        else:\n",
        "            low+=1\n",
        "    \n",
        "    # Sorted result in end\n",
        "    for i in range(len(ans)):\n",
        "        a=ans[i][0]\n",
        "        b=ans[i][1]\n",
        "        ans[i][0]=min(a,b)\n",
        "        ans[i][1]=max(a,b)\n",
        "    \n",
        "    \n",
        "    ans=sorted(ans, key=lambda x:x[0])\n",
        "    return ans"
      ]
    },
    {
      "cell_type": "markdown",
      "metadata": {},
      "source": [
        "Resizing Array"
      ]
    },
    {
      "cell_type": "code",
      "execution_count": 8,
      "metadata": {},
      "outputs": [
        {
          "name": "stdout",
          "output_type": "stream",
          "text": [
            "6\n",
            "[3, 4, 2]\n",
            "3\n"
          ]
        }
      ],
      "source": [
        "l=[1,3,4,2,6,7]\n",
        "print(len(l))\n",
        "l=l[1:4]  # 4 is exclusive not inclusive i.e end index is exclusive\n",
        "print(l)\n",
        "print(len(l))"
      ]
    },
    {
      "cell_type": "markdown",
      "metadata": {},
      "source": [
        "Reverse words in a string : The string can have multiple spaces inbetween two words"
      ]
    },
    {
      "cell_type": "code",
      "execution_count": 9,
      "metadata": {},
      "outputs": [
        {
          "name": "stdout",
          "output_type": "stream",
          "text": [
            "Hi There Hello \n"
          ]
        }
      ],
      "source": [
        "str=\"   Hello      There   Hi  \"\n",
        "ans=\"\"\n",
        "\n",
        "l=str.split()\n",
        "l.reverse()\n",
        "for i in l:\n",
        "    ans+=i\n",
        "    ans+=\" \"\n",
        "\n",
        "print(ans)"
      ]
    },
    {
      "cell_type": "markdown",
      "metadata": {},
      "source": [
        "2D Array Traversal"
      ]
    },
    {
      "cell_type": "code",
      "execution_count": 12,
      "metadata": {},
      "outputs": [
        {
          "name": "stdout",
          "output_type": "stream",
          "text": [
            "[1, 2, 3]\n",
            "[7, 8, 9]\n"
          ]
        }
      ],
      "source": [
        "arr=[[1,2,3],[4,5,6],[7,8,9]]\n",
        "\n",
        "print(arr[0])\n",
        "print(arr[2])"
      ]
    },
    {
      "cell_type": "markdown",
      "metadata": {},
      "source": [
        "insert in 2D Array"
      ]
    },
    {
      "cell_type": "code",
      "execution_count": 13,
      "metadata": {},
      "outputs": [
        {
          "name": "stdout",
          "output_type": "stream",
          "text": [
            "[[1, 2, 3], [4, 5, 6], [11, 12, 13], [7, 8, 9]]\n"
          ]
        }
      ],
      "source": [
        "arr=[[1,2,3],[4,5,6],[7,8,9]]\n",
        "arr.insert(2,[11,12,13])\n",
        "print(arr)"
      ]
    },
    {
      "cell_type": "markdown",
      "metadata": {},
      "source": [
        "reverse a list after given position"
      ]
    },
    {
      "cell_type": "code",
      "execution_count": 15,
      "metadata": {},
      "outputs": [
        {
          "name": "stdout",
          "output_type": "stream",
          "text": [
            "[1, 2, 3, 4, 9, 8, 7, 6, 5]\n"
          ]
        }
      ],
      "source": [
        "l=[1,2,3,4,5,6,7,8,9]\n",
        "n=3\n",
        "l[(n+1):]=l[-1:-(len(l)-n):-1]  # l[:-(len(l)-n):-1]\n",
        "print(l)"
      ]
    },
    {
      "cell_type": "markdown",
      "metadata": {},
      "source": [
        "Intersection of two array"
      ]
    },
    {
      "cell_type": "code",
      "execution_count": 16,
      "metadata": {},
      "outputs": [
        {
          "name": "stdout",
          "output_type": "stream",
          "text": [
            "[2, 2, 5, 8]\n"
          ]
        }
      ],
      "source": [
        "from collections import *\n",
        "map=OrderedDict()\n",
        "\n",
        "l1=[1,3,5,2,5,8,2]\n",
        "l2=[5,2,8,2,9,6]\n",
        "ans=[]\n",
        "\n",
        "l1=sorted(l1)\n",
        "l2=sorted(l2)\n",
        "\n",
        "for i in l1:\n",
        "    map[i]=map.get(i,0)+1\n",
        "\n",
        "for i in l2:\n",
        "    if i in map and map[i]>0:\n",
        "        ans.append(i)\n",
        "        map[i]-=1\n",
        "\n",
        "print(ans)"
      ]
    },
    {
      "cell_type": "markdown",
      "metadata": {},
      "source": [
        "Get only distinct elements in map"
      ]
    },
    {
      "cell_type": "code",
      "execution_count": 17,
      "metadata": {},
      "outputs": [
        {
          "name": "stdout",
          "output_type": "stream",
          "text": [
            "OrderedDict([(1, 1), (2, 1), (3, 1), (5, 1), (8, 1)])\n",
            "[2, 5, 8]\n"
          ]
        }
      ],
      "source": [
        "from collections import *\n",
        "map=OrderedDict()\n",
        "\n",
        "l1=[1,3,5,2,5,8,2]\n",
        "l2=[5,2,8,2,9,6]\n",
        "ans=[]\n",
        "\n",
        "l1=sorted(l1)\n",
        "l2=sorted(l2)\n",
        "\n",
        "for i in l1:\n",
        "    map[i]=map.get(i,1)\n",
        "\n",
        "'''for i in l2:\n",
        "    if i in map and map[i]>0:\n",
        "        ans.append(i)\n",
        "        map[i]-=1'''\n",
        "\n",
        "print(map)\n",
        "#print(ans)\n",
        "\n",
        "#======== Only distinct elements intersection ========\n",
        "\n",
        "from collections import *\n",
        "map=OrderedDict()\n",
        "\n",
        "l1=[1,3,5,2,5,8,2]\n",
        "l2=[5,2,8,2,9,6]\n",
        "ans=[]\n",
        "\n",
        "l1=sorted(l1)\n",
        "l2=sorted(l2)\n",
        "\n",
        "for i in l1:\n",
        "    map[i]=map.get(i,1)\n",
        "\n",
        "for i in l2:\n",
        "    if i in map and map[i]!=0:       # here map[i]!=0\n",
        "        ans.append(i)\n",
        "        map[i]-=1\n",
        "\n",
        "print(ans)"
      ]
    },
    {
      "cell_type": "markdown",
      "metadata": {},
      "source": [
        "Copying into a new Array"
      ]
    },
    {
      "cell_type": "code",
      "execution_count": 18,
      "metadata": {},
      "outputs": [
        {
          "name": "stdout",
          "output_type": "stream",
          "text": [
            "array('I', [1, 2, 4, 5, 6, 11])\n",
            "array('I', [11, 6, 5, 4, 2, 1])\n",
            "array('I', [11, 6, 5, 4, 2, 1])\n"
          ]
        }
      ],
      "source": [
        "from array import array\n",
        "l=array('I',[1,2,3,4,5,6])\n",
        "l.append(11)\n",
        "l.remove(3)\n",
        "print(l)\n",
        "\n",
        "l.reverse()\n",
        "print(l)\n",
        "\n",
        "# copying into a new array\n",
        "new=array(l.typecode,[ele for ele in l])\n",
        "print(new)"
      ]
    },
    {
      "cell_type": "markdown",
      "metadata": {},
      "source": [
        "Array Inparrut"
      ]
    },
    {
      "cell_type": "code",
      "execution_count": null,
      "metadata": {},
      "outputs": [],
      "source": [
        "from array import array\n",
        "l=array('I',[])\n",
        "\n",
        "n=int(input())\n",
        "\n",
        "for i in range(n):\n",
        "    x=int(input(f'Enter the {i}th element'))\n",
        "    l.append(x)\n",
        "\n",
        "print(l)"
      ]
    },
    {
      "cell_type": "markdown",
      "metadata": {},
      "source": [
        "ARRAY COPY: SHALLOW AND DEEP"
      ]
    },
    {
      "cell_type": "code",
      "execution_count": 19,
      "metadata": {},
      "outputs": [
        {
          "name": "stdout",
          "output_type": "stream",
          "text": [
            "4460202288\n",
            "4460202672\n",
            "[ 1 22  5]\n"
          ]
        }
      ],
      "source": [
        "from numpy import *\n",
        "\n",
        "arr1=array([1,2,5])\n",
        "\n",
        "# Shallow Copy\n",
        "\n",
        "arr2=arr1.view()\n",
        "\n",
        "print(id(arr1))\n",
        "print(id(arr2))\n",
        "\n",
        "arr1[1]=22\n",
        "print(arr2)"
      ]
    },
    {
      "cell_type": "code",
      "execution_count": 20,
      "metadata": {},
      "outputs": [
        {
          "name": "stdout",
          "output_type": "stream",
          "text": [
            "4450210320\n",
            "4460203248\n",
            "[ 1 22  5]\n",
            "[1 2 5]\n"
          ]
        }
      ],
      "source": [
        "from numpy import *\n",
        "\n",
        "arr1=array([1,2,5])\n",
        "\n",
        "# Deep Copy\n",
        "\n",
        "arr2=arr1.copy()\n",
        "\n",
        "print(id(arr1))\n",
        "print(id(arr2))\n",
        "\n",
        "arr1[1]=22\n",
        "print(arr1)\n",
        "print(arr2)"
      ]
    },
    {
      "cell_type": "markdown",
      "metadata": {},
      "source": [
        "2D ARRAY Rows and Columns"
      ]
    },
    {
      "cell_type": "code",
      "execution_count": 21,
      "metadata": {},
      "outputs": [
        {
          "name": "stdout",
          "output_type": "stream",
          "text": [
            "3\n",
            "3\n"
          ]
        }
      ],
      "source": [
        "#2D MATRIX no of rows and columns\n",
        "\n",
        "l=[[1,2,3],[4,5,6],[7,8,9]]\n",
        "\n",
        "rows=len(l)\n",
        "\n",
        "col=len(l[0])\n",
        "\n",
        "print(rows)\n",
        "print(col)"
      ]
    },
    {
      "cell_type": "markdown",
      "metadata": {},
      "source": [
        "SORTING IN 2D ARRAYS"
      ]
    },
    {
      "cell_type": "code",
      "execution_count": 22,
      "metadata": {},
      "outputs": [
        {
          "name": "stdout",
          "output_type": "stream",
          "text": [
            "[[0.5, 3], [1, 2], [2, 1]]\n"
          ]
        }
      ],
      "source": [
        "arr=[[2,1],[0.5,3],[1,2]]\n",
        "arr.sort()  # Sorts on the basis of first element in 2D arrays\n",
        "\n",
        "print(arr)"
      ]
    },
    {
      "cell_type": "markdown",
      "metadata": {},
      "source": [
        "2D Array Input"
      ]
    },
    {
      "cell_type": "code",
      "execution_count": null,
      "metadata": {},
      "outputs": [],
      "source": [
        "# Taking input for 2D array\n",
        "# 3 2\n",
        "# 1 2\n",
        "# 3 4\n",
        "# 5 6\n",
        "\n",
        "a=input().split()\n",
        "row=int(a[0])\n",
        "col=int(a[1])\n",
        "arr=[]\n",
        "\n",
        "for i in range(row):\n",
        "    r=[int(j) for j in input().split()]\n",
        "    arr.append(r)\n",
        "\n",
        "print(arr)"
      ]
    },
    {
      "cell_type": "markdown",
      "metadata": {},
      "source": [
        "Ninja and Crazy sum CODESTUDIO"
      ]
    },
    {
      "cell_type": "code",
      "execution_count": 25,
      "metadata": {},
      "outputs": [
        {
          "name": "stdout",
          "output_type": "stream",
          "text": [
            "[[5, 3, 0], [11, 6, 0], [17, 9, 0]]\n",
            "[[5, 3, 0], [11, 6, 0], [17, 9, 0]]\n"
          ]
        }
      ],
      "source": [
        "l=[[1,2,3],[4,5,6],[7,8,9]]\n",
        "\n",
        "ans=[[] for i in range(len(l))]  #2D Array empty initialization\n",
        "\n",
        "for i in range(len(l)):\n",
        "    for j in range(len(l[0])):\n",
        "        sum=0                  \n",
        "        for x in l[i][j+1:]:     # j+1 is out of bound for last element still it works and thus does nothing to sum and 0 is appended\n",
        "            sum+=x\n",
        "        ans[i].append(sum)\n",
        "\n",
        "print(ans)\n",
        "\n",
        "#=================OPTIMISED n*n approach=========>\n",
        "\n",
        "l=[[1,2,3],[4,5,6],[7,8,9]]\n",
        "\n",
        "n = len(l)\n",
        "m = len(l[0])\n",
        "\n",
        "for i in range(n):\n",
        "    sum = 0\n",
        "    for j in range(m-1 , -1, -1):\n",
        "        temp = l[i][j]    # Storing array value in a temp variable\n",
        "        l[i][j] = sum\n",
        "        sum += temp\n",
        "\n",
        "print(l)"
      ]
    },
    {
      "cell_type": "markdown",
      "metadata": {},
      "source": [
        "Bubble Sort"
      ]
    },
    {
      "cell_type": "code",
      "execution_count": 28,
      "metadata": {},
      "outputs": [
        {
          "name": "stdout",
          "output_type": "stream",
          "text": [
            "[5, 9, 4, 2, 10]\n",
            "[5, 4, 2, 9, 10]\n",
            "[4, 2, 5, 9, 10]\n",
            "[2, 4, 5, 9, 10]\n"
          ]
        }
      ],
      "source": [
        "# Bubble sort\n",
        "\n",
        "# after each iteration one largest element will go to it's final position\n",
        "# for eg in l=[10,5,9,4,2]\n",
        "# after first iteration 10 will be at it's original pos output of first iteration : [5,9,4,2,10]\n",
        "# second iteration [5,4,2,9,10]\n",
        "# third iteration [4,2,5,9,10]\n",
        "\n",
        "l=[10,5,9,4,2]\n",
        "n=len(l)\n",
        "for i in range(n-1):\n",
        "    for j in range(n-1):\n",
        "        if l[j]>l[j+1]:\n",
        "            temp=l[j]\n",
        "            l[j]=l[j+1]\n",
        "            l[j+1]=temp\n",
        "    print(l)"
      ]
    },
    {
      "cell_type": "markdown",
      "metadata": {},
      "source": [
        "Selection Sort"
      ]
    },
    {
      "cell_type": "code",
      "execution_count": 38,
      "metadata": {},
      "outputs": [
        {
          "name": "stdout",
          "output_type": "stream",
          "text": [
            "[2, 5, 9, 4, 10]\n",
            "[2, 4, 9, 5, 10]\n",
            "[2, 4, 5, 9, 10]\n",
            "[2, 4, 5, 9, 10]\n"
          ]
        }
      ],
      "source": [
        "# Selection sort\n",
        "\n",
        "# find smallest element in array and fix it to starting position \n",
        "# then in second iteration leave first index and find min element in subsequent array and fix it to second index\n",
        "\n",
        "# NOT NECESSARY YOU DO FROM REVERE ORDER CAN BE DONE FROM START TOO\n",
        "# from reverse own method  (lil bit complex)\n",
        "\n",
        "'''l=[10,5,9,4,2]\n",
        "n=len(l)\n",
        "for i in range(n):\n",
        "    minm=l[-1]\n",
        "    ind=-1\n",
        "    for j in range(-1,-n+i-1,-1):\n",
        "        if(l[j]<minm):\n",
        "            ind=j\n",
        "            minm=l[j]\n",
        "\n",
        "    l[ind]=l[i]\n",
        "    l[i]=minm\n",
        "    print(l)\n",
        "'''\n",
        "\n",
        "l=[10,5,9,4,2]\n",
        "n=len(l)\n",
        "for i in range(n-1):   # n-2 is wrong no less that this iteration\n",
        "    min_idx=i\n",
        "    for j in range(i+1,n):\n",
        "        if(l[j]<l[min_idx]):\n",
        "            min_idx=j\n",
        "\n",
        "    l[i],l[min_idx]=l[min_idx],l[i]\n",
        "            \n",
        "    print(l)\n",
        "\n"
      ]
    },
    {
      "cell_type": "markdown",
      "metadata": {},
      "source": [
        "Insertion Sort"
      ]
    },
    {
      "cell_type": "code",
      "execution_count": 41,
      "metadata": {},
      "outputs": [
        {
          "name": "stdout",
          "output_type": "stream",
          "text": [
            "[5, 10, 9, 4, 6]\n",
            "[5, 9, 10, 4, 6]\n",
            "[4, 5, 9, 10, 6]\n",
            "[4, 5, 6, 9, 10]\n"
          ]
        }
      ],
      "source": [
        "# Algorithm\n",
        "'''To sort an array of size N in ascending order iterate over the array and compare the current element (key) to its predecessor\n",
        "if the key element is smaller than its predecessor, compare it to the elements before. \n",
        "Move the greater elements one position up to make space for the swapped element.'''\n",
        "\n",
        "l=[10,5,9,4,6]\n",
        "n=len(l)\n",
        "for i in range(n-1):\n",
        "    k=i+1\n",
        "    while(l[k]<l[k-1] and k>=1):\n",
        "        l[k],l[k-1]=l[k-1],l[k]\n",
        "        k-=1\n",
        "    print(l)"
      ]
    },
    {
      "cell_type": "markdown",
      "metadata": {},
      "source": [
        "Find Dup codestudio"
      ]
    },
    {
      "cell_type": "code",
      "execution_count": 43,
      "metadata": {},
      "outputs": [
        {
          "data": {
            "text/plain": [
              "2"
            ]
          },
          "execution_count": 43,
          "metadata": {},
          "output_type": "execute_result"
        }
      ],
      "source": [
        "l=[1,3,2,2,4]\n",
        "map=[False for i in l]\n",
        "\n",
        "def finddup(l):\n",
        "    for i in l:\n",
        "        if map[i-1]:\n",
        "            return i\n",
        "        else:\n",
        "            map[i-1]=True\n",
        "\n",
        "finddup(l)"
      ]
    },
    {
      "cell_type": "markdown",
      "metadata": {},
      "source": [
        "ORDER AND PRECEDENCE OF OPERATORS"
      ]
    },
    {
      "cell_type": "code",
      "execution_count": 1,
      "metadata": {},
      "outputs": [],
      "source": [
        "# ORDER\n",
        "\n",
        "# 1.   ()\n",
        "# 2.   **\n",
        "# 3.   * and /\n",
        "# 4.   + and -\n",
        "\n",
        "# PRECEDENCE\n",
        "\n",
        "# 1.   Left to Right   for * / + and -\n",
        "# 1.   Right to Left    for **"
      ]
    },
    {
      "cell_type": "markdown",
      "metadata": {},
      "source": [
        "SET BITS CODESTUDIO : find and return no of 1 in the binary repr of the number n"
      ]
    },
    {
      "cell_type": "code",
      "execution_count": 2,
      "metadata": {},
      "outputs": [
        {
          "name": "stdout",
          "output_type": "stream",
          "text": [
            "1\n"
          ]
        }
      ],
      "source": [
        "n=8\n",
        "count=0\n",
        "while(n!=0):\n",
        "    if(n&1)==1:\n",
        "        count+=1\n",
        "    n>>=1\n",
        "print(count)"
      ]
    },
    {
      "cell_type": "markdown",
      "metadata": {},
      "source": [
        "Bits manipulation"
      ]
    },
    {
      "cell_type": "code",
      "execution_count": 9,
      "metadata": {},
      "outputs": [
        {
          "name": "stdout",
          "output_type": "stream",
          "text": [
            "4\n",
            "15\n",
            "14\n",
            "-13\n"
          ]
        }
      ],
      "source": [
        "# nested A B and C AND Gate\n",
        "\n",
        "a=13\n",
        "b=5\n",
        "c=4\n",
        "print(a & b & c)\n",
        "\n",
        "a=13\n",
        "b=7\n",
        "c=4\n",
        "print(a | b | c)\n",
        "\n",
        "print(a ^ b ^ c)\n",
        "\n",
        "#=========\n",
        "x=12\n",
        "print(~x)"
      ]
    },
    {
      "cell_type": "markdown",
      "metadata": {},
      "source": [
        "Check ith bit is set or not"
      ]
    },
    {
      "cell_type": "code",
      "execution_count": 10,
      "metadata": {},
      "outputs": [
        {
          "name": "stdout",
          "output_type": "stream",
          "text": [
            "0\n",
            "8\n",
            "bit is set\n"
          ]
        }
      ],
      "source": [
        "n=8\n",
        "i=2    # to check whether 2nd bit is set or not\n",
        "j=3    # to check whether 3rd bit is set or not\n",
        "\n",
        "mask2=(1<<i)   # know that mask2 value will be 4\n",
        "\n",
        "mask3=(1<<3)\n",
        "\n",
        "print(n & mask2)\n",
        "print(n & mask3)\n",
        "\n",
        "if n & mask3>0:\n",
        "    print(\"bit is set\")\n",
        "else:\n",
        "    print(\"Not set\")"
      ]
    },
    {
      "cell_type": "markdown",
      "metadata": {},
      "source": [
        "Set ith bit"
      ]
    },
    {
      "cell_type": "code",
      "execution_count": 11,
      "metadata": {},
      "outputs": [
        {
          "name": "stdout",
          "output_type": "stream",
          "text": [
            "12\n"
          ]
        }
      ],
      "source": [
        "n=8\n",
        "j=2 \n",
        "\n",
        "mask2=(1<<j)\n",
        "\n",
        "n= (n | mask2)\n",
        "print(n)"
      ]
    },
    {
      "cell_type": "markdown",
      "metadata": {},
      "source": [
        "Unset ith bit"
      ]
    },
    {
      "cell_type": "code",
      "execution_count": 13,
      "metadata": {},
      "outputs": [
        {
          "name": "stdout",
          "output_type": "stream",
          "text": [
            "9\n"
          ]
        }
      ],
      "source": [
        "n=13          # 1101\n",
        "i=2\n",
        "mask=1<<i     # 0100\n",
        "\n",
        "mask=~mask    # 1011\n",
        "\n",
        "print(mask & n)"
      ]
    },
    {
      "cell_type": "markdown",
      "metadata": {},
      "source": [
        "checking whether num is power of 2"
      ]
    },
    {
      "cell_type": "code",
      "execution_count": 15,
      "metadata": {},
      "outputs": [
        {
          "name": "stdout",
          "output_type": "stream",
          "text": [
            "True\n"
          ]
        }
      ],
      "source": [
        "n=256\n",
        "\n",
        "if n & (n-1) ==0:\n",
        "    print(\"True\")\n",
        "else:\n",
        "    print(\"False\")"
      ]
    },
    {
      "cell_type": "markdown",
      "metadata": {},
      "source": [
        "Max sum subarray"
      ]
    },
    {
      "cell_type": "code",
      "execution_count": 41,
      "metadata": {},
      "outputs": [
        {
          "name": "stdout",
          "output_type": "stream",
          "text": [
            "11\n",
            "[4, 6, -3, 4]\n"
          ]
        }
      ],
      "source": [
        "'''max_sum=-float('inf')        #all pass leetcode\n",
        "sum=0\n",
        "for i in nums:\n",
        "    sum=max(i,sum+i)\n",
        "    max_sum=max(max_sum,sum)\n",
        "return max_sum'''\n",
        "\n",
        "\n",
        "l=[-5, 4, 6, -3, 4, -1]          #fails on single negative and two element -ve array...possible fails on all -ve subarray\n",
        "max_sum=-float('inf')\n",
        "n=len(l)\n",
        "sum=0\n",
        "ans=[]\n",
        "ls=[]\n",
        "for i in range(n):\n",
        "    sum+=l[i]\n",
        "    ls.append(l[i])\n",
        "    if sum<0:\n",
        "        sum=0\n",
        "        ls.clear()\n",
        "    if max_sum<sum:\n",
        "        max_sum=sum\n",
        "        ans=ls[0:]\n",
        "\n",
        "print(max_sum)\n",
        "print(ans)\n"
      ]
    },
    {
      "cell_type": "markdown",
      "metadata": {},
      "source": [
        "Recursion Direct types (Tail Recursion and head recursion)"
      ]
    },
    {
      "cell_type": "code",
      "execution_count": 19,
      "metadata": {},
      "outputs": [
        {
          "name": "stdout",
          "output_type": "stream",
          "text": [
            "5\n",
            "4\n",
            "3\n",
            "2\n",
            "1\n"
          ]
        }
      ],
      "source": [
        "def tail(n):\n",
        "    if n==0:\n",
        "        return\n",
        "    print(n)        # tail recursive statement\n",
        "    tail(n-1)\n",
        "\n",
        "tail(5) "
      ]
    },
    {
      "cell_type": "code",
      "execution_count": 20,
      "metadata": {},
      "outputs": [
        {
          "name": "stdout",
          "output_type": "stream",
          "text": [
            "1\n",
            "2\n",
            "3\n",
            "4\n",
            "5\n"
          ]
        }
      ],
      "source": [
        "def head(n):\n",
        "    if n>0:\n",
        "        head(n-1)\n",
        "        print(n)       # Head recursive statement\n",
        "\n",
        "head(5) "
      ]
    },
    {
      "cell_type": "markdown",
      "metadata": {},
      "source": [
        "Linked List"
      ]
    },
    {
      "cell_type": "code",
      "execution_count": 2,
      "metadata": {},
      "outputs": [
        {
          "name": "stdout",
          "output_type": "stream",
          "text": [
            "1\n",
            "2\n",
            "3\n"
          ]
        }
      ],
      "source": [
        "#======= Singly Linked List =======#\n",
        "\n",
        "class node:\n",
        "    def __init__(self,data):        #constructor\n",
        "        self.data=data\n",
        "        self.next=None\n",
        "\n",
        "class ll:\n",
        "    def __init__(self):             #constructor\n",
        "        self.head=None\n",
        "\n",
        "    def print(self):\n",
        "        temp=self.head      #basically temp is a temp node type which is first node now\n",
        "        while(temp!=None):\n",
        "            print(temp.data)\n",
        "            temp=temp.next\n",
        "\n",
        "\n",
        "list=ll()                           # create a linked list\n",
        "\n",
        "first=node(1)\n",
        "second=node(2)\n",
        "third=node(3)\n",
        "\n",
        "list.head=first              # head -> first    use list.head not ll.head\n",
        "first.next=second\n",
        "second.next=third\n",
        "\n",
        "list.print()                #list.print() not ll.print()\n",
        "\n",
        "#==============PROGRAM FOR RECURSIVE SOLUTIONS===========\n",
        "\n",
        "class node:\n",
        "    def __init__(self,data):\n",
        "        self.data=data\n",
        "        self.next=None\n",
        "\n",
        "def create(arr):\n",
        "    head=None\n",
        "    last=None\n",
        "\n",
        "    for i in arr:\n",
        "        new=node(i)\n",
        "\n",
        "        if head is None:\n",
        "            head=new\n",
        "            last=head\n",
        "        else:\n",
        "            last.next=new\n",
        "            last=new\n",
        "    \n",
        "    return head\n",
        "\n",
        "def printf(head):\n",
        "    if head is None:\n",
        "        return\n",
        "    print(head.data)\n",
        "    return printf(head.next)\n",
        "\n",
        "if __name__ == \"__main__\":\n",
        "    arr=[1,2,3,4,5]\n",
        "    start=create(arr)\n",
        "    printf(start)"
      ]
    },
    {
      "cell_type": "markdown",
      "metadata": {},
      "source": [
        "Linked List fuctions"
      ]
    },
    {
      "cell_type": "code",
      "execution_count": 3,
      "metadata": {},
      "outputs": [
        {
          "name": "stdout",
          "output_type": "stream",
          "text": [
            "1\n",
            "2.5\n",
            "3\n",
            "3.5\n",
            "4\n"
          ]
        }
      ],
      "source": [
        "#======= Singly Linked List =======#\n",
        "\n",
        "class node:\n",
        "    def __init__(self,data):\n",
        "        self.data=data\n",
        "        self.next=None\n",
        "\n",
        "class ll:\n",
        "    def __init__(self):        \n",
        "        self.head=None\n",
        "\n",
        "    def print(self):\n",
        "        current=self.head   \n",
        "        while(current!=None):\n",
        "            print(current.data)\n",
        "            current=current.next\n",
        "    \n",
        "    def insert_begin(self,data):                  # insert node at beginning\n",
        "        new=node(data)\n",
        "        new.next=self.head\n",
        "        self.head=new\n",
        "\n",
        "    def insert_end(self,data):                     # insertion at end\n",
        "        new=node(data)\n",
        "        if self.head is None:\n",
        "            self.head=new\n",
        "            return\n",
        "        current=self.head\n",
        "        while(current.next!=None):\n",
        "            current=current.next\n",
        "        current.next=new\n",
        "\n",
        "    def insert_mid(self,mid,data):              # insert AFTER given node if present\n",
        "        if mid is None:\n",
        "            print(\"No such node\")\n",
        "            return\n",
        "        new=node(data)\n",
        "        new.next=mid.next\n",
        "        mid.next=new\n",
        "    \n",
        "    def insert_pos(self, data, position):\n",
        "\n",
        "        new = node(data)\n",
        "\n",
        "        if position == 0:\n",
        "            # Insert at the beginning of the list\n",
        "            new.next = self.head\n",
        "            self.head = new\n",
        "        else:\n",
        "            current = self.head\n",
        "            for i in range(position - 1):\n",
        "                current = current.next\n",
        "\n",
        "            new.next = current.next\n",
        "            current.next = new\n",
        "    \n",
        "    def remove_ele(self,key):\n",
        "        current=self.head\n",
        "        while(current!=None):\n",
        "            if(current.data==key):      \n",
        "                break\n",
        "            prev=current                # to store one node before\n",
        "            current=current.next        # to store current node\n",
        "\n",
        "        # Unlink the node with the key\n",
        "        prev.next = current.next\n",
        "\n",
        "    def remove_index(self,index):\n",
        "        current=self.head\n",
        "        if index==0:\n",
        "            self.head=current.next\n",
        "            return\n",
        "        for i in range(index-1):\n",
        "            current=current.next\n",
        "        current.next=current.next.next\n",
        "\n",
        "\n",
        "\n",
        "\n",
        "list=ll()        \n",
        "\n",
        "first=node(1)\n",
        "second=node(2)\n",
        "third=node(3)\n",
        "\n",
        "list.head=first              \n",
        "first.next=second\n",
        "second.next=third\n",
        "list.insert_begin(0)\n",
        "list.insert_end(4)\n",
        "list.insert_mid(third,3.5)\n",
        "list.insert_pos(2.5,3)              # index at which you want to add\n",
        "list.remove_ele(2)\n",
        "list.remove_index(0) \n",
        "list.print()           "
      ]
    },
    {
      "cell_type": "markdown",
      "metadata": {},
      "source": [
        "Middle of linked list problem leetcode"
      ]
    },
    {
      "cell_type": "code",
      "execution_count": 26,
      "metadata": {},
      "outputs": [
        {
          "name": "stdout",
          "output_type": "stream",
          "text": [
            "2\n"
          ]
        }
      ],
      "source": [
        "class node():\n",
        "    def __init__(self,data):\n",
        "        self.data=data\n",
        "        self.next=None\n",
        "\n",
        "class ll():\n",
        "    def __init__(self):\n",
        "        self.head=None\n",
        "    \n",
        "    def middle(self):\n",
        "        current=self.head           #change to head in ques\n",
        "        count=0\n",
        "        while(current is not None):\n",
        "            count+=1\n",
        "            current=current.next\n",
        "        mid=(count//2)+1\n",
        "        mid-=1\n",
        "\n",
        "        current=self.head               # re initialise to start\n",
        "        while(mid>0):\n",
        "            mid-=1\n",
        "            current=current.next\n",
        "\n",
        "        return current\n",
        "\n",
        "        # Better and faster method\n",
        "        '''slow=self.head\n",
        "        fast=self.head\n",
        "        while(fast!=None and fast.next!=None):\n",
        "            slow=slow.next\n",
        "            fast=fast.next.next\n",
        "        return slow'''\n",
        "\n",
        "\n",
        "\n",
        "list=ll()\n",
        "f=node(1)\n",
        "s=node(2)\n",
        "t=node(3)\n",
        "#fo=node(4)\n",
        "\n",
        "list.head=f\n",
        "f.next=s\n",
        "s.next=t\n",
        "#t.next=fo\n",
        "\n",
        "new=list.middle()\n",
        "print(new.data)"
      ]
    },
    {
      "cell_type": "markdown",
      "metadata": {},
      "source": [
        "Reversing Linked List"
      ]
    },
    {
      "cell_type": "code",
      "execution_count": 32,
      "metadata": {},
      "outputs": [
        {
          "name": "stdout",
          "output_type": "stream",
          "text": [
            "Original Linked List:\n",
            "1 -> 2 -> 3 -> 4 -> 5 -> None\n",
            "\n",
            "Reversed Linked List:\n",
            "5 -> 4 -> 3 -> 2 -> 1 -> None\n"
          ]
        }
      ],
      "source": [
        "class node:\n",
        "    def __init__(self, value):\n",
        "        self.value = value\n",
        "        self.next = None\n",
        "\n",
        "def reverse(head):\n",
        "    if head is None or head.next is None:\n",
        "        # Base case: If the list is empty or has only one node, it is already reversed.\n",
        "        return head\n",
        "\n",
        "    # Recursively reverse the rest of the list (starting from the next node).\n",
        "    new_head = reverse(head.next)\n",
        "\n",
        "    # Reversing the current node: Set its next node's next pointer to the current node.\n",
        "    head.next.next = head\n",
        "    # Set the current node's next pointer to None, to make it the last node in the reversed list.\n",
        "    head.next = None\n",
        "\n",
        "    return new_head\n",
        "\n",
        "def printlist(head):\n",
        "    current = head\n",
        "    while current:\n",
        "        print(current.value, end=\" -> \")\n",
        "        current = current.next\n",
        "    print(\"None\")\n",
        "\n",
        "if __name__ == \"__main__\":\n",
        "\n",
        "    head = node(1)\n",
        "    head.next = node(2)\n",
        "    head.next.next = node(3)\n",
        "    head.next.next.next = node(4)\n",
        "    head.next.next.next.next = node(5)\n",
        "\n",
        "    print(\"Original Linked List:\")\n",
        "    printlist(head)\n",
        "\n",
        "    head = reverse(head)\n",
        "\n",
        "    print(\"\\nReversed Linked List:\")\n",
        "    printlist(head)\n"
      ]
    },
    {
      "cell_type": "code",
      "execution_count": 34,
      "metadata": {},
      "outputs": [
        {
          "name": "stdout",
          "output_type": "stream",
          "text": [
            "3\n",
            "2\n",
            "1\n"
          ]
        }
      ],
      "source": [
        "# ITERATIVE WAY\n",
        "\n",
        "#======= Singly Linked List =======#\n",
        "\n",
        "class node:\n",
        "    def __init__(self,data):\n",
        "        self.data=data\n",
        "        self.next=None\n",
        "\n",
        "class ll:\n",
        "    def __init__(self):        \n",
        "        self.head=None\n",
        "\n",
        "    def print(self):\n",
        "        temp=self.head    \n",
        "        while(temp!=None):\n",
        "            print(temp.data)\n",
        "            temp=temp.next\n",
        "\n",
        "    def reverse(self):\n",
        "        prev = None\n",
        "        current = self.head\n",
        "        while current is not None:\n",
        "            temp = current.next\n",
        "            current.next = prev\n",
        "            prev = current\n",
        "            current = temp\n",
        "        self.head = prev\n",
        "\n",
        "\n",
        "\n",
        "list=ll()  \n",
        "\n",
        "first=node(1)\n",
        "second=node(2)\n",
        "third=node(3)\n",
        "\n",
        "list.head=first        \n",
        "first.next=second\n",
        "second.next=third\n",
        "\n",
        "list.reverse()   \n",
        "list.print()          "
      ]
    },
    {
      "cell_type": "markdown",
      "metadata": {},
      "source": [
        "Doubly linked list"
      ]
    },
    {
      "cell_type": "code",
      "execution_count": 6,
      "metadata": {},
      "outputs": [
        {
          "name": "stdout",
          "output_type": "stream",
          "text": [
            "1\n",
            "2\n",
            "3\n",
            "4\n",
            "5\n",
            "\n",
            "5\n",
            "4\n",
            "3\n",
            "2\n",
            "1\n",
            "\n",
            "================ NOW OTHER PROGRAM METHOD =============\n",
            "\n",
            "1\n",
            "2\n",
            "3\n",
            "4\n",
            "\n",
            "4\n",
            "3\n",
            "2\n",
            "1\n"
          ]
        }
      ],
      "source": [
        "class node:\n",
        "    def __init__(self,data):\n",
        "        self.data=data\n",
        "        self.next=None\n",
        "        self.prev=None\n",
        "\n",
        "def create(arr):\n",
        "    head=None\n",
        "    last=None\n",
        "\n",
        "    for i in arr:\n",
        "        new=node(i)\n",
        "\n",
        "        if head is None:\n",
        "            head=new\n",
        "            last=head\n",
        "        else:\n",
        "            last.next=new\n",
        "            new.prev=last\n",
        "            last=new\n",
        "    \n",
        "    return head,last\n",
        "\n",
        "def printf(head):\n",
        "    if head is None:\n",
        "        return\n",
        "    print(head.data)\n",
        "    return printf(head.next)\n",
        "\n",
        "def printb(end):\n",
        "    if end is None:\n",
        "        return\n",
        "    print(end.data)\n",
        "    printb(end.prev)\n",
        "\n",
        "\n",
        "if __name__ == \"__main__\":\n",
        "    arr=[1,2,3,4,5]\n",
        "    start,end=create(arr)\n",
        "    printf(start)\n",
        "    print()\n",
        "    printb(end)\n",
        "\n",
        "\n",
        "\n",
        "print()\n",
        "print(\"================ NOW OTHER PROGRAM METHOD =============\")\n",
        "print()\n",
        "#============== Other method =========================\n",
        "\n",
        "class node:\n",
        "    def __init__(self,data):\n",
        "        self.data=data\n",
        "        self.next=None\n",
        "        self.prev=None\n",
        "\n",
        "class ll:\n",
        "    def __init__(self):\n",
        "        ll.head=None\n",
        "        ll.prev=None            # addition\n",
        "    \n",
        "    def printf(self):\n",
        "        head=self.head\n",
        "        while head is not None:\n",
        "            print(head.data)\n",
        "            head=head.next\n",
        "\n",
        "    def printb(self):\n",
        "        temp=self.prev\n",
        "        while temp is not None:\n",
        "            print(temp.data)\n",
        "            temp=temp.prev\n",
        "\n",
        "\n",
        "\n",
        "list=ll()\n",
        "first=node(1)\n",
        "second=node(2)\n",
        "third=node(3)\n",
        "fourth=node(4)\n",
        "\n",
        "list.head=first\n",
        "first.next=second\n",
        "second.prev=first\n",
        "second.next=third\n",
        "third.prev=second\n",
        "third.next=fourth\n",
        "\n",
        "fourth.prev=third\n",
        "list.prev=fourth\n",
        "\n",
        "list.printf()\n",
        "print()\n",
        "list.printb()"
      ]
    },
    {
      "cell_type": "markdown",
      "metadata": {},
      "source": []
    },
    {
      "cell_type": "code",
      "execution_count": null,
      "metadata": {},
      "outputs": [],
      "source": []
    }
  ],
  "metadata": {
    "kernelspec": {
      "display_name": "base",
      "language": "python",
      "name": "python3"
    },
    "language_info": {
      "codemirror_mode": {
        "name": "ipython",
        "version": 3
      },
      "file_extension": ".py",
      "mimetype": "text/x-python",
      "name": "python",
      "nbconvert_exporter": "python",
      "pygments_lexer": "ipython3",
      "version": "3.9.12"
    }
  },
  "nbformat": 4,
  "nbformat_minor": 4
}
