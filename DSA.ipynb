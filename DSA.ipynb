{
  "cells": [
    {
      "cell_type": "markdown",
      "metadata": {},
      "source": [
        "Taking INPUTS"
      ]
    },
    {
      "cell_type": "code",
      "execution_count": null,
      "metadata": {},
      "outputs": [],
      "source": [
        "n=int(input())\n",
        "l=[]\n",
        "for i in range(n):\n",
        "    l.append(int(input()))\n",
        "    \n",
        "#input of form\n",
        "\n",
        "#n\n",
        "#1\n",
        "#2\n",
        "#3\n",
        "#4"
      ]
    },
    {
      "cell_type": "code",
      "execution_count": null,
      "metadata": {},
      "outputs": [],
      "source": [
        "a=input().split()\n",
        "n=int(a[0])\n",
        "l=[int(i) for i in a[1:]]\n",
        "\n",
        "#======= OR ========\n",
        "\n",
        "a=input().split()\n",
        "n=int(a[0])\n",
        "l=[]\n",
        "for i in a[1:]:\n",
        "    l.append(int(i))\n",
        "\n",
        "#input of form\n",
        "\n",
        "#n 1 2 3 4"
      ]
    },
    {
      "cell_type": "code",
      "execution_count": null,
      "metadata": {},
      "outputs": [],
      "source": [
        "n=int(input())\n",
        "l=[int(i) for i in input().split()]\n",
        "#input of form\n",
        "\n",
        "#n\n",
        "#1 2 3 4"
      ]
    },
    {
      "cell_type": "markdown",
      "metadata": {},
      "source": [
        "Try and Except Python"
      ]
    },
    {
      "cell_type": "code",
      "execution_count": 1,
      "metadata": {
        "trusted": true
      },
      "outputs": [
        {
          "name": "stdout",
          "output_type": "stream",
          "text": [
            "try block\n",
            "else block\n"
          ]
        }
      ],
      "source": [
        "def fun():\n",
        "    try:\n",
        "        print(\"try block\")\n",
        "    except :\n",
        "        print (\"except block\")\n",
        "    else:\n",
        "        print (\"else block\")\n",
        "  \n",
        "fun()"
      ]
    },
    {
      "cell_type": "code",
      "execution_count": 2,
      "metadata": {
        "trusted": true
      },
      "outputs": [
        {
          "name": "stdout",
          "output_type": "stream",
          "text": [
            "except block\n"
          ]
        }
      ],
      "source": [
        "def fun(a):\n",
        "    try :\n",
        "        print(a/0)\n",
        "    except :\n",
        "        print (\"except block\")\n",
        "    else:\n",
        "        print (\"else block\")\n",
        "  \n",
        "fun(1)"
      ]
    },
    {
      "cell_type": "code",
      "execution_count": 3,
      "metadata": {
        "trusted": true
      },
      "outputs": [
        {
          "name": "stdout",
          "output_type": "stream",
          "text": [
            "except block\n",
            "This is always run whether try block runs or except block\n"
          ]
        }
      ],
      "source": [
        "def fun(a):\n",
        "    try :\n",
        "        print(a/0)\n",
        "    except :\n",
        "        print (\"except block\")\n",
        "    else:\n",
        "        print (\"else block\")\n",
        "    finally:\n",
        "        print(\"This is always run whether try block runs or except block\")\n",
        "  \n",
        "fun(1)"
      ]
    },
    {
      "cell_type": "markdown",
      "metadata": {},
      "source": [
        "Args and Kwargs : Watch Coding Ninjas DSA playlist or GEEKFORGEEKS"
      ]
    },
    {
      "cell_type": "code",
      "execution_count": 5,
      "metadata": {},
      "outputs": [],
      "source": [
        "pass"
      ]
    },
    {
      "cell_type": "markdown",
      "metadata": {},
      "source": [
        "Unpacking of element into multiple arguments"
      ]
    },
    {
      "cell_type": "code",
      "execution_count": 4,
      "metadata": {},
      "outputs": [
        {
          "name": "stdout",
          "output_type": "stream",
          "text": [
            "1\n",
            "2\n",
            "3\n",
            "4\n"
          ]
        }
      ],
      "source": [
        "def fun(*params):\n",
        "    for i in params:\n",
        "        print(i)\n",
        "\n",
        "l=[1,2,3,4]\n",
        "fun(*l)"
      ]
    },
    {
      "cell_type": "markdown",
      "metadata": {},
      "source": [
        "HANDY IF ELSE USE"
      ]
    },
    {
      "cell_type": "code",
      "execution_count": 5,
      "metadata": {},
      "outputs": [
        {
          "name": "stdout",
          "output_type": "stream",
          "text": [
            "OUTPUT IS :  3\n"
          ]
        }
      ],
      "source": [
        "a=3\n",
        "b=2\n",
        "max=a if a>b else b\n",
        "print(\"OUTPUT IS : \",max)"
      ]
    },
    {
      "cell_type": "markdown",
      "metadata": {},
      "source": [
        "Pair sum CODESTUDIO "
      ]
    },
    {
      "cell_type": "code",
      "execution_count": 6,
      "metadata": {},
      "outputs": [],
      "source": [
        "from collections import *\n",
        "def pairSum(arr, s):\n",
        "    n=len(arr)\n",
        "\n",
        "    map=OrderedDict()\n",
        "\n",
        "    ans=[]\n",
        "\n",
        "    for num in arr:\n",
        "        map[num]=map.get(num,0)+1    # map[num] is freq of num  eg. if map is [(3,2),(1,1)] then map[3] gives 2\n",
        "    \n",
        "    KeyArr=sorted(map.keys())  #unique array element list\n",
        "\n",
        "    for key in KeyArr:\n",
        "        if key+key == s:\n",
        "            freq=map[key]\n",
        "\n",
        "            for j in range(freq*(freq-1)//2):  # freq=??????? combinations of 2 things out of freq things\n",
        "                ans.append([key,key])\n",
        "    \n",
        "    low=0\n",
        "    high=len(KeyArr)-1  # NOT high=n-1\n",
        "\n",
        "    while(low<high):\n",
        "        currsum=KeyArr[low]+KeyArr[high]\n",
        "        if currsum==s:\n",
        "            freq= map[KeyArr[low]]*map[KeyArr[high]]\n",
        "            for j in range(freq):\n",
        "                ans.append([KeyArr[low],KeyArr[high]])\n",
        "            low+=1\n",
        "            high-=1\n",
        "        elif currsum>s:\n",
        "            high-=1\n",
        "        else:\n",
        "            low+=1\n",
        "    \n",
        "    # Sorted result in end\n",
        "    for i in range(len(ans)):\n",
        "        a=ans[i][0]\n",
        "        b=ans[i][1]\n",
        "        ans[i][0]=min(a,b)\n",
        "        ans[i][1]=max(a,b)\n",
        "    \n",
        "    \n",
        "    ans=sorted(ans, key=lambda x:x[0])\n",
        "    return ans"
      ]
    },
    {
      "cell_type": "markdown",
      "metadata": {},
      "source": [
        "Resizing Array"
      ]
    },
    {
      "cell_type": "code",
      "execution_count": 8,
      "metadata": {},
      "outputs": [
        {
          "name": "stdout",
          "output_type": "stream",
          "text": [
            "6\n",
            "[3, 4, 2]\n",
            "3\n"
          ]
        }
      ],
      "source": [
        "l=[1,3,4,2,6,7]\n",
        "print(len(l))\n",
        "l=l[1:4]  # 4 is exclusive not inclusive i.e end index is exclusive\n",
        "print(l)\n",
        "print(len(l))"
      ]
    },
    {
      "cell_type": "markdown",
      "metadata": {},
      "source": [
        "Reverse words in a string : The string can have multiple spaces inbetween two words"
      ]
    },
    {
      "cell_type": "code",
      "execution_count": 9,
      "metadata": {},
      "outputs": [
        {
          "name": "stdout",
          "output_type": "stream",
          "text": [
            "Hi There Hello \n"
          ]
        }
      ],
      "source": [
        "str=\"   Hello      There   Hi  \"\n",
        "ans=\"\"\n",
        "\n",
        "l=str.split()\n",
        "l.reverse()\n",
        "for i in l:\n",
        "    ans+=i\n",
        "    ans+=\" \"\n",
        "\n",
        "print(ans)"
      ]
    },
    {
      "cell_type": "markdown",
      "metadata": {},
      "source": [
        "2D Array Traversal"
      ]
    },
    {
      "cell_type": "code",
      "execution_count": 12,
      "metadata": {},
      "outputs": [
        {
          "name": "stdout",
          "output_type": "stream",
          "text": [
            "[1, 2, 3]\n",
            "[7, 8, 9]\n"
          ]
        }
      ],
      "source": [
        "arr=[[1,2,3],[4,5,6],[7,8,9]]\n",
        "\n",
        "print(arr[0])\n",
        "print(arr[2])"
      ]
    },
    {
      "cell_type": "markdown",
      "metadata": {},
      "source": [
        "insert in 2D Array"
      ]
    },
    {
      "cell_type": "code",
      "execution_count": 13,
      "metadata": {},
      "outputs": [
        {
          "name": "stdout",
          "output_type": "stream",
          "text": [
            "[[1, 2, 3], [4, 5, 6], [11, 12, 13], [7, 8, 9]]\n"
          ]
        }
      ],
      "source": [
        "arr=[[1,2,3],[4,5,6],[7,8,9]]\n",
        "arr.insert(2,[11,12,13])\n",
        "print(arr)"
      ]
    },
    {
      "cell_type": "markdown",
      "metadata": {},
      "source": [
        "reverse a list after given position"
      ]
    },
    {
      "cell_type": "code",
      "execution_count": 15,
      "metadata": {},
      "outputs": [
        {
          "name": "stdout",
          "output_type": "stream",
          "text": [
            "[1, 2, 3, 4, 9, 8, 7, 6, 5]\n"
          ]
        }
      ],
      "source": [
        "l=[1,2,3,4,5,6,7,8,9]\n",
        "n=3\n",
        "l[(n+1):]=l[-1:-(len(l)-n):-1]  # l[:-(len(l)-n):-1]\n",
        "print(l)"
      ]
    },
    {
      "cell_type": "markdown",
      "metadata": {},
      "source": [
        "Intersection of two array"
      ]
    },
    {
      "cell_type": "code",
      "execution_count": 16,
      "metadata": {},
      "outputs": [
        {
          "name": "stdout",
          "output_type": "stream",
          "text": [
            "[2, 2, 5, 8]\n"
          ]
        }
      ],
      "source": [
        "from collections import *\n",
        "map=OrderedDict()\n",
        "\n",
        "l1=[1,3,5,2,5,8,2]\n",
        "l2=[5,2,8,2,9,6]\n",
        "ans=[]\n",
        "\n",
        "l1=sorted(l1)\n",
        "l2=sorted(l2)\n",
        "\n",
        "for i in l1:\n",
        "    map[i]=map.get(i,0)+1\n",
        "\n",
        "for i in l2:\n",
        "    if i in map and map[i]>0:\n",
        "        ans.append(i)\n",
        "        map[i]-=1\n",
        "\n",
        "print(ans)"
      ]
    },
    {
      "cell_type": "markdown",
      "metadata": {},
      "source": [
        "Get only distinct elements in map"
      ]
    },
    {
      "cell_type": "code",
      "execution_count": 17,
      "metadata": {},
      "outputs": [
        {
          "name": "stdout",
          "output_type": "stream",
          "text": [
            "OrderedDict([(1, 1), (2, 1), (3, 1), (5, 1), (8, 1)])\n",
            "[2, 5, 8]\n"
          ]
        }
      ],
      "source": [
        "from collections import *\n",
        "map=OrderedDict()\n",
        "\n",
        "l1=[1,3,5,2,5,8,2]\n",
        "l2=[5,2,8,2,9,6]\n",
        "ans=[]\n",
        "\n",
        "l1=sorted(l1)\n",
        "l2=sorted(l2)\n",
        "\n",
        "for i in l1:\n",
        "    map[i]=map.get(i,1)\n",
        "\n",
        "'''for i in l2:\n",
        "    if i in map and map[i]>0:\n",
        "        ans.append(i)\n",
        "        map[i]-=1'''\n",
        "\n",
        "print(map)\n",
        "#print(ans)\n",
        "\n",
        "#======== Only distinct elements intersection ========\n",
        "\n",
        "from collections import *\n",
        "map=OrderedDict()\n",
        "\n",
        "l1=[1,3,5,2,5,8,2]\n",
        "l2=[5,2,8,2,9,6]\n",
        "ans=[]\n",
        "\n",
        "l1=sorted(l1)\n",
        "l2=sorted(l2)\n",
        "\n",
        "for i in l1:\n",
        "    map[i]=map.get(i,1)\n",
        "\n",
        "for i in l2:\n",
        "    if i in map and map[i]!=0:       # here map[i]!=0\n",
        "        ans.append(i)\n",
        "        map[i]-=1\n",
        "\n",
        "print(ans)"
      ]
    }
  ],
  "metadata": {
    "kernelspec": {
      "display_name": "base",
      "language": "python",
      "name": "python3"
    },
    "language_info": {
      "codemirror_mode": {
        "name": "ipython",
        "version": 3
      },
      "file_extension": ".py",
      "mimetype": "text/x-python",
      "name": "python",
      "nbconvert_exporter": "python",
      "pygments_lexer": "ipython3",
      "version": "3.9.12"
    }
  },
  "nbformat": 4,
  "nbformat_minor": 4
}
