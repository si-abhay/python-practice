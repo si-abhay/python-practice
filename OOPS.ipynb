{
  "cells": [
    {
      "cell_type": "markdown",
      "metadata": {},
      "source": [
        "OOPS CONCEPT"
      ]
    },
    {
      "cell_type": "markdown",
      "metadata": {},
      "source": [
        "Copy constructor functionality of C++"
      ]
    },
    {
      "cell_type": "code",
      "execution_count": 1,
      "metadata": {},
      "outputs": [
        {
          "name": "stdout",
          "output_type": "stream",
          "text": [
            "Animal class created\n",
            "Animal class created\n",
            "RAT\n",
            "20\n"
          ]
        }
      ],
      "source": [
        "class Animal:\n",
        "    def __init__(self, age, name):\n",
        "        self.age = age\n",
        "        self.name = name\n",
        "        print(\"Animal class created\")\n",
        "\n",
        "    def copy(self):                                     # Copy constructor functionality C++\n",
        "        new_animal = type(self)(self.age, self.name)\n",
        "        return new_animal\n",
        "\n",
        "ani = Animal(20, \"RAT\")\n",
        "mni = ani.copy()                                         # COPY LINE\n",
        "\n",
        "print(mni.name)\n",
        "print(mni.age)\n"
      ]
    },
    {
      "cell_type": "code",
      "execution_count": 2,
      "metadata": {},
      "outputs": [
        {
          "name": "stdout",
          "output_type": "stream",
          "text": [
            "Animal class created\n",
            "Name of animal is Dog\n",
            "Dog\n",
            "Animal class created\n",
            "Kangaroo class created\n",
            "Animal class created\n",
            "Kangaroo class created\n",
            "jumps around\n",
            "Name of animal is kang1\n"
          ]
        }
      ],
      "source": [
        "#====== INHERITENCE =======\n",
        "\n",
        "class Animal:\n",
        "    def __init__(self):\n",
        "        print(\"Animal class created\")\n",
        "    def name(self,name):\n",
        "        self.name=name\n",
        "        print(\"Name of animal is {}\".format(self.name))\n",
        "    def do(self):\n",
        "        print(\"Runs\")\n",
        "\n",
        "ani=Animal()\n",
        "ani.name(\"Dog\")\n",
        "print(ani.name)\n",
        "\n",
        "class Kangaroo(Animal):\n",
        "    def __init__(self):\n",
        "        super().__init__()\n",
        "        print(\"Kangaroo class created\")\n",
        "\n",
        "    def jumps(self):\n",
        "        print(\"jumps around\")\n",
        "\n",
        "kang=Kangaroo()\n",
        "kang.__init__()         #explicitly calling constructor\n",
        "kang.jumps()\n",
        "kang.name(\"kang1\")\n"
      ]
    },
    {
      "cell_type": "markdown",
      "metadata": {},
      "source": [
        "INHERITENCE"
      ]
    },
    {
      "cell_type": "code",
      "execution_count": null,
      "metadata": {},
      "outputs": [],
      "source": [
        "#====== INHERITENCE =======\n",
        "\n",
        "# empty class size is 1 byte\n",
        "\n",
        "# private : Inside own class the methods can be accessed, in derived class and objects you can't access these methods\n",
        "# protected : these methods can be accessed inside own class and in derived class but objects can't access\n",
        "# public : derived class, own class and objects all can use these methods\n",
        "\n",
        "# In python by default public but in C++ by default private"
      ]
    },
    {
      "cell_type": "markdown",
      "metadata": {},
      "source": [
        "POLYMORPHISM (2 types)\n",
        "1- Compile Time\n",
        "2- Run Time"
      ]
    },
    {
      "cell_type": "code",
      "execution_count": null,
      "metadata": {},
      "outputs": [],
      "source": [
        "# Compile Time Polymorphism : means at the time of compilation poly is checked and resolved\n",
        "# is basically Method Overloading, i.e there are functions/methods with same name in diff classes, but the content and logic is different.\n"
      ]
    }
  ],
  "metadata": {
    "kernelspec": {
      "display_name": "base",
      "language": "python",
      "name": "python3"
    },
    "language_info": {
      "codemirror_mode": {
        "name": "ipython",
        "version": 3
      },
      "file_extension": ".py",
      "mimetype": "text/x-python",
      "name": "python",
      "nbconvert_exporter": "python",
      "pygments_lexer": "ipython3",
      "version": "3.9.12"
    }
  },
  "nbformat": 4,
  "nbformat_minor": 4
}
