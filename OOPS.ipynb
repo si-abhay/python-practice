{
  "cells": [
    {
      "cell_type": "markdown",
      "metadata": {},
      "source": [
        "OOPS CONCEPT"
      ]
    },
    {
      "cell_type": "code",
      "execution_count": 1,
      "metadata": {},
      "outputs": [
        {
          "name": "stdout",
          "output_type": "stream",
          "text": [
            "Animal class created\n",
            "Name of animal is Dog\n",
            "Dog\n",
            "Animal class created\n",
            "Kangaroo class created\n",
            "Animal class created\n",
            "Kangaroo class created\n",
            "jumps around\n",
            "Name of animal is kang1\n"
          ]
        }
      ],
      "source": [
        "class Animal:\n",
        "    def __init__(self):\n",
        "        print(\"Animal class created\")\n",
        "    def name(self,name):\n",
        "        self.name=name\n",
        "        print(\"Name of animal is {}\".format(self.name))\n",
        "    def do(self):\n",
        "        print(\"Runs\")\n",
        "\n",
        "ani=Animal()\n",
        "ani.name(\"Dog\")\n",
        "print(ani.name)\n",
        "\n",
        "class Kangaroo(Animal):\n",
        "    def __init__(self):\n",
        "        super().__init__()\n",
        "        print(\"Kangaroo class created\")\n",
        "\n",
        "    def jumps(self):\n",
        "        print(\"jumps around\")\n",
        "\n",
        "kang=Kangaroo()\n",
        "kang.__init__()         #explicitly calling constructor\n",
        "kang.jumps()\n",
        "kang.name(\"kang1\")\n"
      ]
    }
  ],
  "metadata": {
    "kernelspec": {
      "display_name": "base",
      "language": "python",
      "name": "python3"
    },
    "language_info": {
      "codemirror_mode": {
        "name": "ipython",
        "version": 3
      },
      "file_extension": ".py",
      "mimetype": "text/x-python",
      "name": "python",
      "nbconvert_exporter": "python",
      "pygments_lexer": "ipython3",
      "version": "3.9.12"
    }
  },
  "nbformat": 4,
  "nbformat_minor": 4
}
