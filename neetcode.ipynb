{
  "cells": [
    {
      "cell_type": "markdown",
      "metadata": {},
      "source": [
        "LEETCODE QUESTIONS"
      ]
    },
    {
      "cell_type": "code",
      "execution_count": 1,
      "metadata": {},
      "outputs": [],
      "source": [
        "# 217. Contains Duplicate\n",
        "class Solution:\n",
        "    def containsDuplicate(self,nums):\n",
        "        hashset=set()\n",
        "        for n in nums:\n",
        "            if n in hashset:\n",
        "                return True\n",
        "            hashset.add(n)\n",
        "        return False"
      ]
    },
    {
      "cell_type": "code",
      "execution_count": 2,
      "metadata": {},
      "outputs": [],
      "source": [
        "# 242. Valid Anagram\n",
        "class Solution:\n",
        "    def isAnagram(self, s, t):\n",
        "        if len(s)!=len(t):\n",
        "            return False\n",
        "        sc={}\n",
        "        tc={}\n",
        "        for i in range(len(s)):\n",
        "            sc[s[i]]= 1 + sc.get(s[i],0)\n",
        "            tc[t[i]]= 1 + tc.get(t[i],0)\n",
        "        return sc==tc"
      ]
    }
  ],
  "metadata": {
    "kernelspec": {
      "display_name": "base",
      "language": "python",
      "name": "python3"
    },
    "language_info": {
      "codemirror_mode": {
        "name": "ipython",
        "version": 3
      },
      "file_extension": ".py",
      "mimetype": "text/x-python",
      "name": "python",
      "nbconvert_exporter": "python",
      "pygments_lexer": "ipython3",
      "version": "3.9.12"
    }
  },
  "nbformat": 4,
  "nbformat_minor": 4
}
