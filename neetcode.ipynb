{
  "cells": [
    {
      "cell_type": "markdown",
      "metadata": {},
      "source": [
        "LEETCODE QUESTIONS"
      ]
    },
    {
      "cell_type": "code",
      "execution_count": 1,
      "metadata": {},
      "outputs": [],
      "source": [
        "# 217. Contains Duplicate\n",
        "class Solution:\n",
        "    def containsDuplicate(self,nums):\n",
        "        hashset=set()\n",
        "        for n in nums:\n",
        "            if n in hashset:\n",
        "                return True\n",
        "            hashset.add(n)\n",
        "        return False"
      ]
    },
    {
      "cell_type": "code",
      "execution_count": 2,
      "metadata": {},
      "outputs": [],
      "source": [
        "# 242. Valid Anagram\n",
        "class Solution:\n",
        "    def isAnagram(self, s, t):\n",
        "        if len(s)!=len(t):\n",
        "            return False\n",
        "        sc={}\n",
        "        tc={}\n",
        "        for i in range(len(s)):\n",
        "            sc[s[i]]= 1 + sc.get(s[i],0)\n",
        "            tc[t[i]]= 1 + tc.get(t[i],0)\n",
        "        return sc==tc"
      ]
    },
    {
      "cell_type": "code",
      "execution_count": null,
      "metadata": {},
      "outputs": [],
      "source": [
        "# 1. Two Sum\n",
        "class Solution:\n",
        "    def twoSum(self, nums, target):\n",
        "        prevMap={}\n",
        "        for i,n in enumerate(nums):\n",
        "            diff=target-n\n",
        "            if diff in prevMap:\n",
        "                return [prevMap[diff],i]\n",
        "            prevMap[n]=i"
      ]
    },
    {
      "cell_type": "code",
      "execution_count": null,
      "metadata": {},
      "outputs": [],
      "source": [
        "# 49. Group Anagrams\n",
        "'''class Solution:\n",
        "    def groupAnagrams(self, strs):\n",
        "        ans=defaultdict(list)\n",
        "        for s in strs:\n",
        "            countmap=[0]*26\n",
        "            for c in s:\n",
        "                countmap[ord(c)-ord('a')]+=1\n",
        "            ans[tuple(countmap)].append(s)\n",
        "        print(ans)                  # to see structure of ans dictionary\n",
        "        return ans.values()'''"
      ]
    },
    {
      "cell_type": "markdown",
      "metadata": {},
      "source": [
        "Longest Subsuquence"
      ]
    },
    {
      "cell_type": "code",
      "execution_count": null,
      "metadata": {},
      "outputs": [],
      "source": [
        "class Solution:\n",
        "    def longestConsecutive(self, nums):\n",
        "        numSet = set(nums)\n",
        "        longest = 0\n",
        "\n",
        "        for n in numSet:\n",
        "            # check if its the start of a sequence\n",
        "            if (n - 1) not in numSet:\n",
        "                length = 1\n",
        "                while (n + length) in numSet:\n",
        "                    length += 1\n",
        "                longest = max(length, longest)\n",
        "        return longest\n",
        "\n",
        "'''class Solution:\n",
        "    def longestConsecutive(self, nums: List[int]) -> int:\n",
        "        mp=defaultdict(list)\n",
        "        bl=defaultdict(bool)\n",
        "        mx=0\n",
        "        for i in nums:\n",
        "            if bl[i]:\n",
        "                continue \n",
        "            bl[i]=True\n",
        "            l,r=i,i\n",
        "            if mp[i+1]:\n",
        "                r=mp[i+1][0]\n",
        "            if mp[i-1]:\n",
        "                l=mp[i-1][1]\n",
        "            mp[r]=[r,l]\n",
        "            mp[l]=[r,l]\n",
        "            mx=max(mx,r-l+1)\n",
        "        return mx'''"
      ]
    },
    {
      "cell_type": "markdown",
      "metadata": {},
      "source": [
        "Encode Decode string"
      ]
    },
    {
      "cell_type": "code",
      "execution_count": null,
      "metadata": {},
      "outputs": [],
      "source": [
        "class Solution:\n",
        "    \"\"\"\n",
        "    @param: strs: a list of strings\n",
        "    @return: encodes a list of strings to a single string.\n",
        "    \"\"\"\n",
        "\n",
        "    def encode(self, strs):\n",
        "        res = \"\"\n",
        "        for s in strs:\n",
        "            res += str(len(s)) + \"#\" + s\n",
        "        return res\n",
        "\n",
        "    \"\"\"\n",
        "    @param: s: A string\n",
        "    @return: decodes a single string to a list of strings\n",
        "    \"\"\"\n",
        "\n",
        "    def decode(self, s):\n",
        "        res, i = [], 0\n",
        "\n",
        "        while i < len(s):\n",
        "            j = i\n",
        "            while s[j] != \"#\":\n",
        "                j += 1\n",
        "            length = int(s[i:j])\n",
        "            res.append(s[j + 1 : j + 1 + length])\n",
        "            i = j + 1 + length\n",
        "        return res\n"
      ]
    }
  ],
  "metadata": {
    "kernelspec": {
      "display_name": "base",
      "language": "python",
      "name": "python3"
    },
    "language_info": {
      "codemirror_mode": {
        "name": "ipython",
        "version": 3
      },
      "file_extension": ".py",
      "mimetype": "text/x-python",
      "name": "python",
      "nbconvert_exporter": "python",
      "pygments_lexer": "ipython3",
      "version": "3.9.12"
    }
  },
  "nbformat": 4,
  "nbformat_minor": 4
}
